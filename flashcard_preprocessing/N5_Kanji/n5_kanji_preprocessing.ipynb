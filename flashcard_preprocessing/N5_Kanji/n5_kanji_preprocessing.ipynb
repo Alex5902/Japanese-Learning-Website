{
 "cells": [
  {
   "cell_type": "code",
   "execution_count": 3,
   "metadata": {},
   "outputs": [],
   "source": [
    "import csv"
   ]
  },
  {
   "cell_type": "code",
   "execution_count": 10,
   "metadata": {},
   "outputs": [
    {
     "name": "stdout",
     "output_type": "stream",
     "text": [
      "N5_kanji.csv check complete\n"
     ]
    }
   ],
   "source": [
    "# check for missing columns\n",
    "\n",
    "all_rows = []\n",
    "header = None\n",
    "\n",
    "input_file = \"N5_kanji.csv\"\n",
    "\n",
    "with open(input_file, \"r\", encoding=\"utf-8-sig\") as f:\n",
    "    reader = csv.reader(f)\n",
    "    header = next(reader)\n",
    "        \n",
    "    for line_num, row in enumerate(reader, start=2):\n",
    "        # Check if row is empty\n",
    "        if not row or all(cell.strip() == \"\" for cell in row):\n",
    "            print(f\"[INFO] {input_file}, line {line_num}: Empty row skipped\")\n",
    "            continue\n",
    "        # Check if row has exactly 6 columns:\n",
    "        if len(row) != 6:\n",
    "            print(f\"[WARNING] {input_file}, line {line_num}: Expected 6 columns, found {len(row)} => {row}\")\n",
    "        else:\n",
    "            all_rows.append(row)\n",
    "\n",
    "print(f\"{input_file} check complete\")"
   ]
  }
 ],
 "metadata": {
  "kernelspec": {
   "display_name": "base",
   "language": "python",
   "name": "python3"
  },
  "language_info": {
   "codemirror_mode": {
    "name": "ipython",
    "version": 3
   },
   "file_extension": ".py",
   "mimetype": "text/x-python",
   "name": "python",
   "nbconvert_exporter": "python",
   "pygments_lexer": "ipython3",
   "version": "3.12.7"
  }
 },
 "nbformat": 4,
 "nbformat_minor": 2
}
